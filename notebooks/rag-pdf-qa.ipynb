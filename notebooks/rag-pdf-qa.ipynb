{
 "cells": [
  {
   "metadata": {},
   "cell_type": "markdown",
   "source": [
    "# Simple RAG pipeline allowing you to \"talk\" to your documentation\n",
    "\n",
    "This notebook contains a simple application for using retrieval augmented generation (RAG) to \"ask questions\" from a PDF, using a powerful package called `langchain`. In this case, we're going to use a PDF of the PyCharm documentation, but `langchain` allows you to use a [wide variety of input formats](https://python.langchain.com/v0.1/docs/modules/data_connection/document_loaders/), giving you significant flexibility over your input data source.\n",
    "\n",
    "In this pipeline, we'll need to do the following:\n",
    "* Load in (for local models) or connect to the API of (for remote models) our LLM;\n",
    "* Load in our PDF that we want to \"chat\" to;\n",
    "* We can't pass the whole PDF into a model at the same time (it's almost 2000 pages!). As such, we need to split it into chunks;\n",
    "* Rather than needing to pass every individual chunk through the LLM to find the information in the document relevant to a question, we can convert these chunks into document embeddings, which we then store in a vector database. At query time, the question is also converted into a document embedding, and the most similar document chunks to the question are retrieved."
   ],
   "id": "19e695dc29bb9a3a"
  },
  {
   "metadata": {
    "ExecuteTime": {
     "end_time": "2024-05-31T15:47:11.478533Z",
     "start_time": "2024-05-31T15:47:11.474953Z"
    }
   },
   "cell_type": "code",
   "source": [
    "from dotenv import load_dotenv\n",
    "from langchain import chains, document_loaders, vectorstores\n",
    "from langchain.text_splitter import CharacterTextSplitter\n",
    "from langchain_openai import ChatOpenAI, OpenAIEmbeddings\n",
    "import re"
   ],
   "id": "a98011df002e3ac7",
   "outputs": [],
   "execution_count": 2
  },
  {
   "metadata": {
    "ExecuteTime": {
     "end_time": "2024-05-31T15:47:12.778389Z",
     "start_time": "2024-05-31T15:47:12.770226Z"
    }
   },
   "cell_type": "code",
   "source": [
    "class PdfQA:\n",
    "    \"\"\"\n",
    "    Initializes the PdfQA class with the specified parameters.\n",
    "\n",
    "    :param model: The name or path of the model to be loaded.\n",
    "    :param pdf_document: The path to the PDF document to be loaded.\n",
    "    :param chunk_size: The desired size of each chunk.\n",
    "    :param chunk_overlap: The specified overlap between chunks.\n",
    "    :param search_type: The type of search to be performed.\n",
    "    :param n_documents: The number of documents to be retrieved.\n",
    "    :param chain_type: The type of chain to create.\n",
    "    \"\"\"\n",
    "\n",
    "    def __init__(self, model, pdf_document, chunk_size, chunk_overlap,\n",
    "                 search_type, n_documents, chain_type):\n",
    "        load_dotenv()\n",
    "        self.init_chat_model(model)\n",
    "        self.load_documents(pdf_document)\n",
    "        self.split_documents(chunk_size, chunk_overlap)\n",
    "        self.select_embedding = OpenAIEmbeddings()\n",
    "        self.create_vectorstore()\n",
    "        self.create_retriever(search_type, n_documents)\n",
    "        self.chain = self.create_chain(chain_type)\n",
    "\n",
    "    def init_chat_model(self, model):\n",
    "        \"\"\"\n",
    "        Initialize the chat model.\n",
    "\n",
    "        :param model: The name or path of the model to be loaded.\n",
    "        :return: None\n",
    "\n",
    "        \"\"\"\n",
    "        print(\"Loading model\")\n",
    "        self.llm = ChatOpenAI(model_name=model, temperature=0)\n",
    "\n",
    "    def load_documents(self, pdf_document):\n",
    "        \"\"\"\n",
    "        Load documents from a PDF file and convert to a format that can be ingested by the langchain\n",
    "        document splitter.\n",
    "\n",
    "        :param pdf_document: The path to the PDF document to be loaded.\n",
    "        :return: None\n",
    "        \"\"\"\n",
    "        print(\"Loading PDFs\")\n",
    "        pdf_loader = document_loaders.PyPDFLoader(pdf_document)\n",
    "        self.documents = pdf_loader.load()\n",
    "\n",
    "    def split_documents(self, chunk_size, chunk_overlap):\n",
    "        \"\"\"\n",
    "        Split the documents into chunks of a given size with a specified overlap.\n",
    "\n",
    "        :param chunk_size: The desired size of each chunk.\n",
    "        :type chunk_size: int\n",
    "        :param chunk_overlap: The specified overlap between chunks.\n",
    "        :type chunk_overlap: int\n",
    "        :return: None\n",
    "        \"\"\"\n",
    "        print(\"Splitting documents\")\n",
    "        text_splitter = CharacterTextSplitter(chunk_size=chunk_size, chunk_overlap=chunk_overlap)\n",
    "        self.texts = text_splitter.split_documents(self.documents)\n",
    "\n",
    "    def create_vectorstore(self):\n",
    "        \"\"\"\n",
    "        Create Vector Store.\n",
    "\n",
    "        This method creates document embeddings using the Chroma algorithm from the given texts and selected embedding.\n",
    "\n",
    "        :return: None\n",
    "        \"\"\"\n",
    "        print(\"Creating document embeddings\")\n",
    "        self.db = vectorstores.Chroma.from_documents(self.texts, self.select_embedding)\n",
    "\n",
    "    def create_retriever(self, search_type, n_documents):\n",
    "        \"\"\"\n",
    "        Generate a chunk retriever for the given search type and number of documents.\n",
    "\n",
    "        :param search_type: The type of search to be performed.\n",
    "        :param n_documents: The number of documents to be retrieved.\n",
    "        :return: None\n",
    "        \"\"\"\n",
    "        print(\"Generating chunk retriever\")\n",
    "        self.retriever = self.db.as_retriever(search_type=search_type, search_kwargs={\"k\": n_documents})\n",
    "\n",
    "    def create_chain(self, chain_type):\n",
    "        \"\"\"\n",
    "        :param chain_type: The type of chain to create.\n",
    "        :return: The created chain.\n",
    "        \"\"\"\n",
    "        qa = chains.RetrievalQA.from_chain_type(llm=self.llm,\n",
    "                                                chain_type=chain_type,\n",
    "                                                retriever=self.retriever,\n",
    "                                                return_source_documents=True)\n",
    "        return qa\n",
    "\n",
    "    def query_chain(self):\n",
    "        \"\"\"\n",
    "        Returns the chain of the object.\n",
    "\n",
    "        :return: The chain of the object.\n",
    "        \"\"\"\n",
    "        return self.chain"
   ],
   "id": "a6c1a3bcaaee5c40",
   "outputs": [],
   "execution_count": 3
  },
  {
   "metadata": {},
   "cell_type": "markdown",
   "source": [
    "## Levers in the RAG pipeline\n",
    "RAG is quite tricky to get right, especially if you need it to be efficient. There are many levers we can pull in our pipeline, which influence the following things:\n",
    "* How fast we can get our answers;\n",
    "* How relevant our answers are (and related, how likely we are to get a hallucination);\n",
    "* How complete our answers are.\n",
    "\n",
    "Let's instantiate our PDF questioner with the following values:\n",
    "* `model`: the LLM used to generate answers using information from the document. In this case, `gpt-3.5-turbo`.\n",
    "* `pdf_document`: the PDF we want to \"chat with\". In our case, we've selected our PDF containing almost all of the PyCharm documentation.\n",
    "* `chunk_size`: the maximum number of tokens to include in each chunk. We've selected 1000.\n",
    "* `chunk_overlap`: the number of tokens that should overlap between adjacent chunks. We've selected 0, so no overlapping tokens.\n",
    "* `search_type`: the metric by which chunks are selected. In this case, we've selected \"similarity\", so those chunks with the highest (cosine) similarity to the content of the question we're asking. However, you can also use \"mmr\" (if supported by your document store) which tries to maximise for relevancy and diversity of results.\n",
    "* `n_documents`: the maximum number of chunks to use to generate the answer. In this case, we've used 5.\n",
    "* `chain_type`: this controls how the content is passed into the LLM. In the case of \"stuff\" it passes all gathered context chunks into the context window at once. Other options are \"refine\", which feeds in the chunks in batches, plus the answer generated so far, and \"map-rerank\", which feeds in each chunk and assigns a score based on how well it answered the question.\n",
    "\n",
    "Other levers I've chosen not to make arguments in this class are the model used for embeddings (the `OpenAIEmbeddings` were used) and which vector database we use to store the document embeddings (in this case, the `Chroma` vector store was used)."
   ],
   "id": "337a752314ad724"
  },
  {
   "metadata": {
    "ExecuteTime": {
     "end_time": "2024-05-31T15:48:30.658710Z",
     "start_time": "2024-05-31T15:47:15.228269Z"
    }
   },
   "cell_type": "code",
   "source": [
    "pdf_qa = PdfQA(\"gpt-3.5-turbo\", \"../materials/pycharm-documentation.pdf\", 1000, 0, \"similarity\", 5,\n",
    "               \"stuff\")\n",
    "pdf_qa_chain = pdf_qa.query_chain()"
   ],
   "id": "696e06baa6306eeb",
   "outputs": [
    {
     "name": "stdout",
     "output_type": "stream",
     "text": [
      "Loading model\n",
      "Loading PDFs\n",
      "Splitting documents\n",
      "Creating document embeddings\n",
      "Generating chunk retriever\n"
     ]
    }
   ],
   "execution_count": 4
  },
  {
   "metadata": {},
   "cell_type": "markdown",
   "source": "Let's try it out by asking how we can debug in PyCharm.",
   "id": "e1618a7539d451a0"
  },
  {
   "metadata": {
    "ExecuteTime": {
     "end_time": "2024-05-31T15:48:57.589492Z",
     "start_time": "2024-05-31T15:48:54.552619Z"
    }
   },
   "cell_type": "code",
   "source": "answer1 = pdf_qa_chain.invoke({\"query\": \"What are the options for debugging with PyCharm?\"})",
   "id": "ec7e8f62e1ff0803",
   "outputs": [],
   "execution_count": 5
  },
  {
   "metadata": {
    "ExecuteTime": {
     "end_time": "2024-05-31T15:49:00.235137Z",
     "start_time": "2024-05-31T15:49:00.229727Z"
    }
   },
   "cell_type": "code",
   "source": "answer1[\"result\"]",
   "id": "6d1fbc81d231df98",
   "outputs": [
    {
     "data": {
      "text/plain": [
       "'The options for debugging with PyCharm include placing breakpoints at specific lines of code, stepping through the code line by line, evaluating expressions, adding watches, and manually setting variable values. You can start debugging by pressing a specific key, and then navigate through the program execution using the available options in the Run menu or the Debug tool window. The Debug tool window consists of panes for frames, variables, watches, and a Console tab for input and output information.'"
      ]
     },
     "execution_count": 6,
     "metadata": {},
     "output_type": "execute_result"
    }
   ],
   "execution_count": 6
  },
  {
   "metadata": {},
   "cell_type": "markdown",
   "source": "We can see the answer is very comprehensive. Let's have a look at the information it was based on from the documentation.",
   "id": "2d0f4f9b2ba9b26"
  },
  {
   "metadata": {
    "ExecuteTime": {
     "end_time": "2024-05-31T15:49:04.163413Z",
     "start_time": "2024-05-31T15:49:04.159068Z"
    }
   },
   "cell_type": "code",
   "source": [
    "for document in answer1[\"source_documents\"]:\n",
    "    index_n = answer1[\"source_documents\"].index(document)\n",
    "    print(f\"\\nDOCUMENT {index_n + 1}\")\n",
    "    print(re.sub(r\"\\s+\", \" \", document.page_content.strip()))"
   ],
   "id": "f1453f0dff1fe05d",
   "outputs": [
    {
     "name": "stdout",
     "output_type": "stream",
     "text": [
      "\n",
      "DOCUMENT 1\n",
      "Debug Does your application stumble on a runtime error? To find out what’s causing it, you will have to do some debugging. PyCharm supports the debugger on all platforms. Debugging starts with placing breakpoints at which program execution will be suspended, so you can explore program data. Just click the gutter of the line where you want the breakpoint to appear. To start debugging your application, press . Then go through the program execution step by step (see the available options in the Run menu or the Debug tool window), evaluate any arbitrary expression, add watches, and manually set values for the variables. For more information, refer to Debugging. Test It is a good idea to test your applications, and PyCharm helps doing it as simple as possible. With PyCharm, you can: ⌃Ctrl D Create tests • Create special testing run/debug configurations. • Run and debug tests right from the IDE, using the testing run/debug configurations. •\n",
      "\n",
      "DOCUMENT 2\n",
      "Launch it and observe results in the Test Runner tab of the Run tool window. To see successful test along with the failed ones, click Show Passed on the toolbar. Debug run First of all, why do we need debugging? Suppose, you hit a runtime error. Sometimes the reason of the error is clear. But in more complex case you may need to investigate and inspect the state of your program at different points in its execution. This is where debugging is necessary. With PyCharm, you can debug your applications without leaving the IDE. The only thing you need to do beforehand is to place breakpoints in the required places. Let's explore\n",
      "\n",
      "DOCUMENT 3\n",
      "Debugging in detail The Debug tool window consists of dedicated panes for frames, variables, and watches, as well as the Console tab, where all the input and output information is displayed. If you want the console to be always visible, you can drag it to one of the PyCharm window's edges. Stepping If you want to see what your code does line by line, there's no need to put a breakpoint on every line, you can step through your code. Let's see what it looks like to step through our example program. Start or restart the debugger by using the Run widget at the top of the window:\n",
      "\n",
      "DOCUMENT 4\n",
      "Python support in PyCharm PyCharm provides the following features to help you work with Python: Feature PyCharm Community PyCharm Professional Dedicated project types Ability to configure local interpreters and virtual environments. Ability to configure remote and docker-based interpreters. Python console. Run/debug configurations for Python Run/debug configurations for Python remote debug Code insight, Code inspections, Intention actions, and Code completion Built-in code formatter and separate set of Python code style settingsLimited to Python, HTML, JSON, XML, and YAML Find usages in Python code.\n",
      "\n",
      "DOCUMENT 5\n",
      "For more information about the numbers, refer to the Test Runner tab section. PyCharm supports all the major Python testing frameworks: For each of these frameworks, PyCharm provides its own run/debug configuration. For more information, refer to Test your first Python application and Run tests. With PyCharm Professional you can run, debug, and test your Python code remotely. You can deploy your local applications to some remote server. For more information about deployment servers, refer to the section Configuring Synchronization with a Web Server. PyCharm Professional also helps compare local and remote folders, and synchronize the local copy with that deployed on the server.And, finally, the most important thing - you can explore test results in the test runner tab of the Run tool window: • Unittest ↗ • Doctest ↗ • Nosetest ↗ • pytest ↗ •\n"
     ]
    }
   ],
   "execution_count": 7
  },
  {
   "metadata": {},
   "cell_type": "markdown",
   "source": [
    "We can see that the first three chunks are the most relevant, while the last three don't really add that much to the answer.\n",
    "\n",
    "If we'd like, we can go a bit deeper with our answer. We can set up a memory for the last answer the LLM gave us so we can ask follow up questions. In this case, as a data scientist, I'd like to know about how to debug in Jupyter notebooks."
   ],
   "id": "988b16f0387ce399"
  },
  {
   "metadata": {
    "ExecuteTime": {
     "end_time": "2024-05-31T15:49:24.985020Z",
     "start_time": "2024-05-31T15:49:21.453330Z"
    }
   },
   "cell_type": "code",
   "source": [
    "chat_history1 = [(answer1[\"query\"], answer1[\"result\"])]\n",
    "answer2 = pdf_qa_chain.invoke({\"query\": \"Have you left out any other types of debugging?\",\n",
    "                               \"chat_history\": chat_history1})"
   ],
   "id": "233bb88309ba48d7",
   "outputs": [],
   "execution_count": 8
  },
  {
   "metadata": {
    "ExecuteTime": {
     "end_time": "2024-05-31T15:49:28.274380Z",
     "start_time": "2024-05-31T15:49:28.271332Z"
    }
   },
   "cell_type": "code",
   "source": "answer2[\"result\"]",
   "id": "3d5d632b16484d7a",
   "outputs": [
    {
     "data": {
      "text/plain": [
       "'Yes, there are other types of debugging mentioned in the context provided:\\n\\n1. Debugging JavaScript: This is mentioned as the next step intended for Professional edition users.\\n2. Debugging Django templates: It is mentioned that you have learned how to step through your template, evaluate expressions, and add watches in the context of a Django project.\\n3. Working in the Threads and Variables tab: It is mentioned that you can observe the variables used in the application by stepping through all the set breakpoints.\\n4. Working in the Console tab: It is mentioned that you can use the Console tab to see error messages or perform calculations not related to the current application.\\n\\nThese are the additional types of debugging mentioned in the context provided.'"
      ]
     },
     "execution_count": 9,
     "metadata": {},
     "output_type": "execute_result"
    }
   ],
   "execution_count": 9
  },
  {
   "metadata": {},
   "cell_type": "markdown",
   "source": "If our model is capable of it, we can even enter queries in a different language to the source documentation, and get relevant answers back in this language. Here we question our English-language documentation in German ...",
   "id": "c6922b4d1d9ba8fa"
  },
  {
   "metadata": {
    "ExecuteTime": {
     "end_time": "2024-05-31T15:49:38.271816Z",
     "start_time": "2024-05-31T15:49:35.254449Z"
    }
   },
   "cell_type": "code",
   "source": "answer3 = pdf_qa_chain.invoke({\"query\": \"Wie kann man PyCharm installieren?\"})",
   "id": "977361cabc240a1a",
   "outputs": [],
   "execution_count": 10
  },
  {
   "metadata": {},
   "cell_type": "markdown",
   "source": "... and get a relevant answer in German!",
   "id": "775a8861805a7351"
  },
  {
   "metadata": {
    "ExecuteTime": {
     "end_time": "2024-05-31T15:49:40.426645Z",
     "start_time": "2024-05-31T15:49:40.422858Z"
    }
   },
   "cell_type": "code",
   "source": "answer3[\"result\"]",
   "id": "24653b6650739585",
   "outputs": [
    {
     "data": {
      "text/plain": [
       "'PyCharm kann über die Toolbox oder eigenständige Installationen installiert werden. Wenn du Hilfe bei der Installation benötigst, sieh dir die Installationsanweisungen an. Es gibt auch eine stille Installationsoption für Netzwerkadministratoren, um PyCharm auf mehreren Maschinen zu installieren, ohne andere Benutzer zu unterbrechen. Es gibt auch eine separate ARM64-Installationsdatei. Es wird empfohlen, die Integrität des Installationsprogramms mit dem SHA-Prüfsummenlink von der Downloadseite zu überprüfen.'"
      ]
     },
     "execution_count": 11,
     "metadata": {},
     "output_type": "execute_result"
    }
   ],
   "execution_count": 11
  },
  {
   "metadata": {
    "ExecuteTime": {
     "end_time": "2024-05-31T15:49:56.958659Z",
     "start_time": "2024-05-31T15:49:56.955109Z"
    }
   },
   "cell_type": "code",
   "source": [
    "for document in answer3[\"source_documents\"]:\n",
    "    index_n = answer3[\"source_documents\"].index(document)\n",
    "    print(f\"\\nDOCUMENT {index_n + 1}\")\n",
    "    print(re.sub(r\"\\s+\", \" \", document.page_content.strip()))"
   ],
   "id": "7bc9df603729ace6",
   "outputs": [
    {
     "name": "stdout",
     "output_type": "stream",
     "text": [
      "\n",
      "DOCUMENT 1\n",
      "PyCharm 2024.1 Getting started/Installation guide Last modified: 06 May 2024 PyCharm is a cross-platform IDE that provides consistent experience on the Windows, macOS, and Linux operating systems. PyCharm is available in two editions: Professional, and Community. The Community edition is an open-source project, and it's free, but it has fewer features. The Professional edition is commercial, and provides an outstanding set of tools and features. For more information, refer to the editions comparison matrix ↗.Install PyCharm\n",
      "\n",
      "DOCUMENT 2\n",
      "You can install PyCharm using Toolbox or standalone installations. If you need assistance installing PyCharm, see the installation instructions: Install PyCharmRequirement Minimum Recommended Operating systemOfficially released versions of the following: Pre-release versions are not supported.The latest versions of the following: Microsoft Windows 10 1809 64-bit or later Windows Server 2019 64- bit or later• macOS 12.0 or later • Ubuntu Linux 20.04 LTS or a later LTS version that uses the following:• Gnome or KDE • X Window System (X11) Wayland support is in development. You can monitor the progress and leave your feedback in JBR-3206: Native Wayland support ↗.• GLIBC ↗ 2.29 or later •Windows 64-bit • macOS • Ubuntu Linux LTS •\n",
      "\n",
      "DOCUMENT 3\n",
      "To run PyCharm, find it in the Windows Start menu or use the desktop shortcut. You can also run the launcher batch script or executable in the installation directory under bin. When you run PyCharm for the first time, you can take several steps to complete the installation, customize your instance, and start working with the IDE. For more information, refer to Run PyCharm for the first time. For more information about the location of the default IDE directories with user- specific files, refer to Directories used by the IDE. Silent installation on Windows Silent installation is performed without any user interface. It can be used by network administrators to install PyCharm on a number of machines and avoid interrupting other users. To perform silent install, run the installer with the following switches:There is a separate installer for ARM64 processors. To verify the integrity of the installer, use the SHA checksum linked from the Download ↗ page. Run the installer and follow the wizard steps. Mind the following options in the installation wizard2. 64-bit launcher: Adds a launching icon to the Desktop. • Open Folder as Project: Adds an option to the folder context menu that will allow opening the selected directory as a PyCharm project.• .py: Establishes an association with Python files to open them in PyCharm. • Add launchers dir to the PATH: Allows running this PyCharm instance from the Console without specifying the path to it.•\n",
      "\n",
      "DOCUMENT 4\n",
      "PyCharm supports the following versions of Python: Install using the Toolbox App The JetBrains Toolbox App ↗ is the recommended tool to install JetBrains products. Use it to install and manage different products or several versions of the same product, including Early Access Program ↗ (EAP) and Nightly releases, update and roll back when necessary, and easily remove any tool. The Toolbox App maintains a list of all your projects to quickly open any project in the right IDE and version. Install the Toolbox AppPython 2: version 2.7 • Python 3: from the version 3.6 up to the version 3.12 • macOS Linux Download the installer .exe from the Toolbox App web page ↗. 1. Run the installer and follow the wizard steps. 2. After you run the Toolbox App, click its icon in the notification area and select which product you want to install. To install a specific version, click and select Available versions.3.Windows\n",
      "\n",
      "DOCUMENT 5\n",
      "PyCharm 2024.1 Getting started/Installation guide/Run PyCharm for the first time Last modified: 15 May 2024 You can use the Toolbox App to run any JetBrains product. In the case of a standalone installation, running PyCharm depends on the operating system: To run PyCharm, find it in the Windows Start menu or use the desktop shortcut. You can also run the launcher batch script or executable in the installation directory under bin. For more information about running PyCharm from the command line, refer to Command-line interface. You will see the Welcome screen, the starting point to your work with the IDE. This screen also appears when you close all opened projects. Use the tabs on the left side to switch to the specific welcome dialog.Run PyCharm for the first time macOS Linux Windows\n"
     ]
    }
   ],
   "execution_count": 12
  },
  {
   "metadata": {},
   "cell_type": "code",
   "outputs": [],
   "execution_count": null,
   "source": "",
   "id": "878387a2ae0a5170"
  }
 ],
 "metadata": {
  "kernelspec": {
   "display_name": "Python 3",
   "language": "python",
   "name": "python3"
  },
  "language_info": {
   "codemirror_mode": {
    "name": "ipython",
    "version": 2
   },
   "file_extension": ".py",
   "mimetype": "text/x-python",
   "name": "python",
   "nbconvert_exporter": "python",
   "pygments_lexer": "ipython2",
   "version": "2.7.6"
  }
 },
 "nbformat": 4,
 "nbformat_minor": 5
}
